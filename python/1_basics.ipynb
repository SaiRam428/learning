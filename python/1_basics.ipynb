{
 "cells": [
  {
   "cell_type": "code",
   "execution_count": 1,
   "id": "8659abbb",
   "metadata": {},
   "outputs": [
    {
     "name": "stdout",
     "output_type": "stream",
     "text": [
      "sairam\n",
      "sairam\n"
     ]
    }
   ],
   "source": [
    "# Python is case sensitive langugae\n",
    "# Example\n",
    "\n",
    "name = 'sairam'\n",
    "Name = 'sairam' \n",
    "\n",
    "print(name)\n",
    "print(Name)"
   ]
  },
  {
   "cell_type": "code",
   "execution_count": null,
   "id": "1d0c2ba2",
   "metadata": {},
   "outputs": [],
   "source": [
    "## Indentation\n",
    "\n",
    "age = 32\n",
    "if age > 32:\n",
    "    print(\"old\")\n",
    "else:\n",
    "    print(\"young\")"
   ]
  },
  {
   "cell_type": "code",
   "execution_count": null,
   "id": "68c9575c",
   "metadata": {},
   "outputs": [],
   "source": [
    "# Singe line comments"
   ]
  },
  {
   "cell_type": "code",
   "execution_count": null,
   "id": "97babd6b",
   "metadata": {},
   "outputs": [
    {
     "name": "stdout",
     "output_type": "stream",
     "text": [
      "36\n"
     ]
    }
   ],
   "source": [
    "# Line Continuation\n",
    "# use backslash (\\) to continue the code in the next line as well\n",
    "\n",
    "total = 1+2+3+4+5+\\\n",
    "6+7+8\n",
    "\n",
    "print(total)"
   ]
  },
  {
   "cell_type": "code",
   "execution_count": null,
   "id": "b29eabc7",
   "metadata": {},
   "outputs": [
    {
     "name": "stdout",
     "output_type": "stream",
     "text": [
      "15\n"
     ]
    }
   ],
   "source": [
    "# Multiple statements in a single line \n",
    "\n",
    "x= 5; y= 10; z= x + y\n",
    "\n",
    "print(z)"
   ]
  }
 ],
 "metadata": {
  "kernelspec": {
   "display_name": "Python 3",
   "language": "python",
   "name": "python3"
  },
  "language_info": {
   "codemirror_mode": {
    "name": "ipython",
    "version": 3
   },
   "file_extension": ".py",
   "mimetype": "text/x-python",
   "name": "python",
   "nbconvert_exporter": "python",
   "pygments_lexer": "ipython3",
   "version": "3.12.1"
  }
 },
 "nbformat": 4,
 "nbformat_minor": 5
}
